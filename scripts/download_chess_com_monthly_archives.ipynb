{
 "cells": [
  {
   "cell_type": "code",
   "execution_count": 1,
   "metadata": {},
   "outputs": [],
   "source": [
    "# chess.com API -> https://www.chess.com/news/view/published-data-api\n",
    "# The API has been used to download monthly archives for a user using a Python3 program.\n",
    "# This program works as of 24/09/2018\n",
    "\n",
    "import urllib\n",
    "import urllib.request"
   ]
  },
  {
   "cell_type": "code",
   "execution_count": 2,
   "metadata": {},
   "outputs": [],
   "source": [
    "username = \"gperdigo8\" #change \n",
    "baseUrl = \"https://api.chess.com/pub/player/\" + username + \"/games/\"\n",
    "archivesUrl = baseUrl + \"archives\""
   ]
  },
  {
   "cell_type": "code",
   "execution_count": 3,
   "metadata": {},
   "outputs": [],
   "source": [
    "#read the archives url and store in a list\n",
    "f = urllib.request.urlopen(archivesUrl)\n",
    "archives = f.read().decode(\"utf-8\")\n",
    "archives = archives.replace(\"{\\\"archives\\\":[\\\"\", \"\\\",\\\"\")\n",
    "archivesList = archives.split(\"\\\",\\\"\" + baseUrl)\n",
    "archivesList[len(archivesList)-1] = archivesList[len(archivesList)-1].rstrip(\"\\\"]}\")\n"
   ]
  },
  {
   "cell_type": "code",
   "execution_count": 4,
   "metadata": {},
   "outputs": [],
   "source": [
    "#create directory if it doesn't exist\n",
    "from pathlib import Path\n",
    "Path(\"/Users/Guillem/Chess/gamesData/\" + username).mkdir(parents=True, exist_ok=True)"
   ]
  },
  {
   "cell_type": "code",
   "execution_count": 5,
   "metadata": {
    "scrolled": true
   },
   "outputs": [
    {
     "name": "stdout",
     "output_type": "stream",
     "text": [
      "2014-01.pgn has been downloaded.\n",
      "2014-02.pgn has been downloaded.\n",
      "2014-03.pgn has been downloaded.\n",
      "2014-04.pgn has been downloaded.\n",
      "2014-05.pgn has been downloaded.\n",
      "2014-09.pgn has been downloaded.\n",
      "2014-10.pgn has been downloaded.\n",
      "2015-01.pgn has been downloaded.\n",
      "2015-02.pgn has been downloaded.\n",
      "2015-03.pgn has been downloaded.\n",
      "2015-04.pgn has been downloaded.\n",
      "2015-05.pgn has been downloaded.\n",
      "2015-06.pgn has been downloaded.\n",
      "2015-12.pgn has been downloaded.\n",
      "2016-01.pgn has been downloaded.\n",
      "2017-03.pgn has been downloaded.\n",
      "2019-11.pgn has been downloaded.\n",
      "2019-12.pgn has been downloaded.\n",
      "2020-01.pgn has been downloaded.\n",
      "2020-02.pgn has been downloaded.\n",
      "All files have been downloaded.\n"
     ]
    }
   ],
   "source": [
    "#download all the archives\n",
    "for i in range(len(archivesList)-1):\n",
    "    url = baseUrl + archivesList[i+1] + \"/pgn\"\n",
    "    filename = archivesList[i+1].replace(\"/\", \"-\")\n",
    "    urllib.request.urlretrieve(url, \"/Users/Guillem/Chess/gamesData/\" + username + \"/\" + filename + \".pgn\") #change\n",
    "    print(filename + \".pgn has been downloaded.\")\n",
    "print (\"All files have been downloaded.\")"
   ]
  },
  {
   "cell_type": "code",
   "execution_count": 5,
   "metadata": {},
   "outputs": [
    {
     "name": "stdout",
     "output_type": "stream",
     "text": [
      "<http.client.HTTPResponse object at 0x10ef75828>\n"
     ]
    }
   ],
   "source": [
    "print(f)"
   ]
  },
  {
   "cell_type": "code",
   "execution_count": 24,
   "metadata": {},
   "outputs": [
    {
     "data": {
      "text/plain": [
       "'https://api.chess.com/pub/player/gperdigo8/games/archives'"
      ]
     },
     "execution_count": 24,
     "metadata": {},
     "output_type": "execute_result"
    }
   ],
   "source": [
    "archivesUrl"
   ]
  },
  {
   "cell_type": "code",
   "execution_count": 26,
   "metadata": {},
   "outputs": [
    {
     "data": {
      "text/plain": [
       "'https://api.chess.com/pub/player/gperdigo8/games/2020/02/pgn'"
      ]
     },
     "execution_count": 26,
     "metadata": {},
     "output_type": "execute_result"
    }
   ],
   "source": [
    "url"
   ]
  },
  {
   "cell_type": "code",
   "execution_count": null,
   "metadata": {},
   "outputs": [],
   "source": []
  }
 ],
 "metadata": {
  "kernelspec": {
   "display_name": "Python 3",
   "language": "python",
   "name": "python3"
  },
  "language_info": {
   "codemirror_mode": {
    "name": "ipython",
    "version": 3
   },
   "file_extension": ".py",
   "mimetype": "text/x-python",
   "name": "python",
   "nbconvert_exporter": "python",
   "pygments_lexer": "ipython3",
   "version": "3.7.0"
  },
  "varInspector": {
   "cols": {
    "lenName": 16,
    "lenType": 16,
    "lenVar": 40
   },
   "kernels_config": {
    "python": {
     "delete_cmd_postfix": "",
     "delete_cmd_prefix": "del ",
     "library": "var_list.py",
     "varRefreshCmd": "print(var_dic_list())"
    },
    "r": {
     "delete_cmd_postfix": ") ",
     "delete_cmd_prefix": "rm(",
     "library": "var_list.r",
     "varRefreshCmd": "cat(var_dic_list()) "
    }
   },
   "oldHeight": 270.76378,
   "position": {
    "height": "40px",
    "left": "714.656px",
    "right": "20px",
    "top": "71.9965px",
    "width": "399.549px"
   },
   "types_to_exclude": [
    "module",
    "function",
    "builtin_function_or_method",
    "instance",
    "_Feature"
   ],
   "varInspector_section_display": "none",
   "window_display": true
  }
 },
 "nbformat": 4,
 "nbformat_minor": 2
}
